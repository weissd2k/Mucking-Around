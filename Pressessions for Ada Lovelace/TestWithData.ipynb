{
 "cells": [
  {
   "cell_type": "code",
   "execution_count": 2,
   "id": "69924011",
   "metadata": {},
   "outputs": [
    {
     "name": "stdout",
     "output_type": "stream",
     "text": [
      "{'Oslo': 21.8, 'London': 18.1, 'Berlin': 19.0, 'Paris': 23.0, 'Rome': 26.0}\n"
     ]
    }
   ],
   "source": [
    "with open(\"data/deg2.dat\", \"r\") as infile:\n",
    "    # Start with an empty dictionary\n",
    "    temps = {}\n",
    "    for line in infile:\n",
    "        # If you examine the file you will see a \":\" after the city name,\n",
    "        # so let's use this as the delimiter for splitting the line.\n",
    "        city, temp = line.split(\":\")\n",
    "        temps[city] = float(temp)\n",
    "\n",
    "print(temps)"
   ]
  },
  {
   "cell_type": "code",
   "execution_count": 1,
   "id": "03522f43",
   "metadata": {},
   "outputs": [
    {
     "name": "stdout",
     "output_type": "stream",
     "text": [
      "Hello world!\n",
      "This is my first code.\n",
      "I love coding.\n"
     ]
    }
   ],
   "source": [
    "print(\"Hello world!\\nThis is my first code.\\nI love coding.\")"
   ]
  },
  {
   "cell_type": "code",
   "execution_count": null,
   "id": "649c0be5",
   "metadata": {},
   "outputs": [],
   "source": []
  }
 ],
 "metadata": {
  "kernelspec": {
   "display_name": "base",
   "language": "python",
   "name": "python3"
  },
  "language_info": {
   "codemirror_mode": {
    "name": "ipython",
    "version": 3
   },
   "file_extension": ".py",
   "mimetype": "text/x-python",
   "name": "python",
   "nbconvert_exporter": "python",
   "pygments_lexer": "ipython3",
   "version": "3.12.2"
  }
 },
 "nbformat": 4,
 "nbformat_minor": 5
}
