{
 "cells": [
  {
   "cell_type": "markdown",
   "metadata": {},
   "source": [
    "Chapter - Your first program"
   ]
  },
  {
   "cell_type": "code",
   "execution_count": 2,
   "metadata": {},
   "outputs": [
    {
     "data": {
      "text/plain": [
       "579.7"
      ]
     },
     "execution_count": 2,
     "metadata": {},
     "output_type": "execute_result"
    }
   ],
   "source": [
    "123+456+7/10"
   ]
  },
  {
   "cell_type": "code",
   "execution_count": 1,
   "metadata": {},
   "outputs": [
    {
     "data": {
      "text/plain": [
       "'edoc ot emiT'"
      ]
     },
     "execution_count": 1,
     "metadata": {},
     "output_type": "execute_result"
    }
   ],
   "source": [
    "''.join(reversed('Time to code'))"
   ]
  },
  {
   "cell_type": "code",
   "execution_count": 1,
   "metadata": {},
   "outputs": [
    {
     "name": "stdout",
     "output_type": "stream",
     "text": [
      "hello world\n",
      "hello, anna lea\n"
     ]
    }
   ],
   "source": [
    "print('hello world')\n",
    "person = input ('whats your name')\n",
    "print('hello,',person)"
   ]
  },
  {
   "cell_type": "markdown",
   "metadata": {},
   "source": [
    "Chapter Variables\n",
    "if we wnat to write useful codes, we need to be able to store and label pieces of information "
   ]
  },
  {
   "cell_type": "code",
   "execution_count": 7,
   "metadata": {},
   "outputs": [
    {
     "name": "stdout",
     "output_type": "stream",
     "text": [
      "12\n"
     ]
    }
   ],
   "source": [
    "#How to create variables\n",
    "# a variable needs a name\n",
    "age = 12\n",
    "print (age)"
   ]
  },
  {
   "cell_type": "code",
   "execution_count": 16,
   "metadata": {},
   "outputs": [
    {
     "name": "stdout",
     "output_type": "stream",
     "text": [
      "42\n",
      "70\n",
      "700\n"
     ]
    }
   ],
   "source": [
    "# using numbers\n",
    "#a simple calculation\n",
    "x=6\n",
    "y=x*7\n",
    "print(y)\n",
    "\n",
    "#change value\n",
    "x=10\n",
    "y=x*7\n",
    "print(y)\n",
    "\n",
    "#change value\n",
    "x=10\n",
    "y=x*70\n",
    "print(y)\n"
   ]
  },
  {
   "cell_type": "markdown",
   "metadata": {},
   "source": [
    "Working with strings"
   ]
  },
  {
   "cell_type": "code",
   "execution_count": 23,
   "metadata": {},
   "outputs": [
    {
     "name": "stdout",
     "output_type": "stream",
     "text": [
      "Dominik Weiss\n",
      "Welcome to Jeju-Do, Dominik Weiss\n",
      "Welcome to Jeju-Do, Ha Yeoung Lee, Heamin and Dominik, \n"
     ]
    }
   ],
   "source": [
    "#string in variables\n",
    "name = 'Dominik Weiss'\n",
    "print (name)\n",
    "\n",
    "#combining strings\n",
    "greeting = 'Welcome to Jeju-Do, '\n",
    "message = greeting + name\n",
    "print (message)\n",
    "\n",
    "#combined \n",
    "name = 'Ha Yeoung Lee, Heamin and Dominik, '\n",
    "greeting = 'Welcome to Jeju-Do, '\n",
    "message = greeting + name\n",
    "print (message)"
   ]
  },
  {
   "cell_type": "markdown",
   "metadata": {},
   "source": [
    "Lists\n",
    "when you want to store a liyt of data oro perhaps the order of the data is importanyt - you may need to use a list"
   ]
  },
  {
   "cell_type": "code",
   "execution_count": 28,
   "metadata": {},
   "outputs": [
    {
     "data": {
      "text/plain": [
       "('Ha Yeoung', 'Joris')"
      ]
     },
     "execution_count": 28,
     "metadata": {},
     "output_type": "execute_result"
    }
   ],
   "source": [
    "#multiple variables\n",
    "Jeju_United = ['Ha Yeoung', 'Haemin', 'Kiyun', 'Dominik', 'Min-Sung', 'Hae Ja']\n",
    "Basel_FC = ['Stephan', 'Kaethi', 'Meret', 'Joris']\n",
    "\n",
    "#getting items from a list\n",
    "Jeju_United[0], Basel_FC [3]"
   ]
  },
  {
   "cell_type": "markdown",
   "metadata": {},
   "source": [
    "Chapter Making Decisions\n"
   ]
  },
  {
   "cell_type": "code",
   "execution_count": 38,
   "metadata": {},
   "outputs": [
    {
     "name": "stdout",
     "output_type": "stream",
     "text": [
      "you are ten years old\n"
     ]
    }
   ],
   "source": [
    "#Questions that compare\n",
    "\n",
    "#Boolean values\n",
    "answer_one= True\n",
    "answer_two  = False\n",
    "\n",
    "#logical operatores\n",
    "#== equal to\n",
    "#!= not equal to\n",
    "#< less than\n",
    "#>greater than\n",
    "\n",
    "#equal signs\n",
    "age = 10\n",
    "if age == 10:\n",
    "    print ('you are ten years old')\n"
   ]
  },
  {
   "cell_type": "code",
   "execution_count": 43,
   "metadata": {},
   "outputs": [
    {
     "data": {
      "text/plain": [
       "True"
      ]
     },
     "execution_count": 43,
     "metadata": {},
     "output_type": "execute_result"
    }
   ],
   "source": [
    "#pineapples and zebras\n",
    "\n",
    "pineapples = 5\n",
    "zebras = 2\n",
    "\n",
    "#making comparisons\n",
    "pineapples > zebras\n",
    "\n"
   ]
  },
  {
   "cell_type": "code",
   "execution_count": 42,
   "metadata": {},
   "outputs": [
    {
     "data": {
      "text/plain": [
       "False"
      ]
     },
     "execution_count": 42,
     "metadata": {},
     "output_type": "execute_result"
    }
   ],
   "source": [
    "#marking comparison\n",
    "\n",
    "zebras > pineapples"
   ]
  },
  {
   "cell_type": "code",
   "execution_count": 44,
   "metadata": {},
   "outputs": [
    {
     "data": {
      "text/plain": [
       "False"
      ]
     },
     "execution_count": 44,
     "metadata": {},
     "output_type": "execute_result"
    }
   ],
   "source": [
    "# multiple comparisons\n",
    "(pineapples ==3) and (zebras ==2)"
   ]
  },
  {
   "cell_type": "code",
   "execution_count": 45,
   "metadata": {},
   "outputs": [
    {
     "data": {
      "text/plain": [
       "True"
      ]
     },
     "execution_count": 45,
     "metadata": {},
     "output_type": "execute_result"
    }
   ],
   "source": [
    "# multiple comparisons\n",
    "(pineapples ==3) or (zebras ==2)"
   ]
  },
  {
   "cell_type": "code",
   "execution_count": 46,
   "metadata": {},
   "outputs": [
    {
     "data": {
      "text/plain": [
       "True"
      ]
     },
     "execution_count": 46,
     "metadata": {},
     "output_type": "execute_result"
    }
   ],
   "source": [
    "#boolean expressions\n",
    "# statements about variables and values that use the logical operators always gives us Boolean value, such a True or False\n",
    "pineapples != zebras"
   ]
  },
  {
   "cell_type": "code",
   "execution_count": 4,
   "metadata": {},
   "outputs": [
    {
     "data": {
      "text/plain": [
       "False"
      ]
     },
     "execution_count": 4,
     "metadata": {},
     "output_type": "execute_result"
    }
   ],
   "source": [
    "#ridetherollercoaster\n",
    "age = 10\n",
    "height = 1.5\n",
    "(age > 8) and (height > 4.7)"
   ]
  }
 ],
 "metadata": {
  "kernelspec": {
   "display_name": "base",
   "language": "python",
   "name": "python3"
  },
  "language_info": {
   "codemirror_mode": {
    "name": "ipython",
    "version": 3
   },
   "file_extension": ".py",
   "mimetype": "text/x-python",
   "name": "python",
   "nbconvert_exporter": "python",
   "pygments_lexer": "ipython3",
   "version": "3.12.2"
  }
 },
 "nbformat": 4,
 "nbformat_minor": 2
}
