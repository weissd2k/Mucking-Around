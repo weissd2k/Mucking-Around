{
 "cells": [
  {
   "cell_type": "code",
   "execution_count": 1,
   "id": "9cf169ff",
   "metadata": {},
   "outputs": [
    {
     "name": "stdout",
     "output_type": "stream",
     "text": [
      "\n",
      "The word 'ChurchfieldRoadW36BD' has 20 letters.\n",
      "\n",
      "Position of each letter:\n",
      "Letter 1: C\n",
      "Letter 2: h\n",
      "Letter 3: u\n",
      "Letter 4: r\n",
      "Letter 5: c\n",
      "Letter 6: h\n",
      "Letter 7: f\n",
      "Letter 8: i\n",
      "Letter 9: e\n",
      "Letter 10: l\n",
      "Letter 11: d\n",
      "Letter 12: R\n",
      "Letter 13: o\n",
      "Letter 14: a\n",
      "Letter 15: d\n",
      "Letter 16: W\n",
      "Letter 17: 3\n",
      "Letter 18: 6\n",
      "Letter 19: B\n",
      "Letter 20: D\n"
     ]
    }
   ],
   "source": [
    "# Ask user to enter a word\n",
    "word = input(\"Enter a word: \")\n",
    "\n",
    "# Count the number of letters in the word\n",
    "num_letters = len(word)\n",
    "\n",
    "print(f\"\\nThe word '{word}' has {num_letters} letters.\\n\")\n",
    "\n",
    "# Display each letter with its position\n",
    "print(\"Position of each letter:\")\n",
    "for index, letter in enumerate(word, start=1):\n",
    "    print(f\"Letter {index}: {letter}\")\n"
   ]
  },
  {
   "cell_type": "code",
   "execution_count": 2,
   "id": "afaf02d0",
   "metadata": {},
   "outputs": [
    {
     "name": "stdout",
     "output_type": "stream",
     "text": [
      "\n",
      "The word '0760' has 4 letters.\n",
      "\n",
      "Position of each letter:\n",
      "Letter 1: 0\n",
      "Letter 2: 7\n",
      "Letter 3: 6\n",
      "Letter 4: 0\n"
     ]
    }
   ],
   "source": [
    "# Ask user to enter a word\n",
    "word = input(\"Enter a word: \")\n",
    "\n",
    "# Count the number of letters in the word\n",
    "num_letters = len(word)\n",
    "\n",
    "print(f\"\\nThe word '{word}' has {num_letters} letters.\\n\")\n",
    "\n",
    "# Display each letter with its position\n",
    "print(\"Position of each letter:\")\n",
    "for index, letter in enumerate(word, start=1):\n",
    "    print(f\"Letter {index}: {letter}\")"
   ]
  }
 ],
 "metadata": {
  "kernelspec": {
   "display_name": "npp2025",
   "language": "python",
   "name": "python3"
  },
  "language_info": {
   "codemirror_mode": {
    "name": "ipython",
    "version": 3
   },
   "file_extension": ".py",
   "mimetype": "text/x-python",
   "name": "python",
   "nbconvert_exporter": "python",
   "pygments_lexer": "ipython3",
   "version": "3.13.7"
  }
 },
 "nbformat": 4,
 "nbformat_minor": 5
}
