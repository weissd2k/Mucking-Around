{
  "nbformat": 4,
  "nbformat_minor": 0,
  "metadata": {
    "colab": {
      "name": "Copy of Copy of Copy of Untitled0.ipynb",
      "provenance": [],
      "toc_visible": true,
      "authorship_tag": "ABX9TyORt1TGbtGMHfYMeckGD74N",
      "include_colab_link": true
    },
    "kernelspec": {
      "name": "python3",
      "display_name": "Python 3"
    },
    "language_info": {
      "name": "python"
    }
  },
  "cells": [
    {
      "cell_type": "markdown",
      "metadata": {
        "id": "view-in-github",
        "colab_type": "text"
      },
      "source": [
        "<a href=\"https://colab.research.google.com/github/weissd2k/Dominik/blob/main/PythonLab%20v3%20220822%20.ipynb\" target=\"_parent\"><img src=\"https://colab.research.google.com/assets/colab-badge.svg\" alt=\"Open In Colab\"/></a>"
      ]
    },
    {
      "cell_type": "code",
      "execution_count": null,
      "metadata": {
        "id": "Dtgyiidra7H9"
      },
      "outputs": [],
      "source": [
        ""
      ]
    },
    {
      "cell_type": "markdown",
      "source": [
        "# This is my notebook detailling my learning journey in python - i use the Al Sweigart text book"
      ],
      "metadata": {
        "id": "Qo6t8iVSbKnV"
      }
    },
    {
      "cell_type": "code",
      "source": [
        ""
      ],
      "metadata": {
        "id": "7oAfVenmbSvi"
      },
      "execution_count": null,
      "outputs": []
    },
    {
      "cell_type": "code",
      "source": [
        ""
      ],
      "metadata": {
        "id": "96txbKH0bqjZ"
      },
      "execution_count": null,
      "outputs": []
    },
    {
      "cell_type": "code",
      "source": [
        "spam = True\n",
        "spam\n",
        "True = 2+2\n"
      ],
      "metadata": {
        "id": "qXjCdddobsE9",
        "outputId": "a7c5a911-2470-48c8-d81e-25dca8bdbf2b",
        "colab": {
          "base_uri": "https://localhost:8080/",
          "height": 130
        }
      },
      "execution_count": null,
      "outputs": [
        {
          "output_type": "error",
          "ename": "SyntaxError",
          "evalue": "ignored",
          "traceback": [
            "\u001b[0;36m  File \u001b[0;32m\"<ipython-input-13-b3835c8a9c0a>\"\u001b[0;36m, line \u001b[0;32m3\u001b[0m\n\u001b[0;31m    True = 2+2\u001b[0m\n\u001b[0m              ^\u001b[0m\n\u001b[0;31mSyntaxError\u001b[0m\u001b[0;31m:\u001b[0m can't assign to keyword\n"
          ]
        }
      ]
    },
    {
      "cell_type": "markdown",
      "source": [
        ""
      ],
      "metadata": {
        "id": "W8jE6bK3fH0S"
      }
    },
    {
      "cell_type": "code",
      "source": [
        "42==42\n",
        "42 == 99"
      ],
      "metadata": {
        "id": "s9Md1GuzcXfQ",
        "outputId": "184b97ba-a871-4434-9b61-d9616bbcad66",
        "colab": {
          "base_uri": "https://localhost:8080/"
        }
      },
      "execution_count": null,
      "outputs": [
        {
          "output_type": "execute_result",
          "data": {
            "text/plain": [
              "False"
            ]
          },
          "metadata": {},
          "execution_count": 14
        }
      ]
    },
    {
      "cell_type": "code",
      "source": [
        "2 != 2\n"
      ],
      "metadata": {
        "id": "_Prto4q6chfz",
        "outputId": "ccd3a07d-2d7a-4791-88d1-3f2fcd89c839",
        "colab": {
          "base_uri": "https://localhost:8080/"
        }
      },
      "execution_count": null,
      "outputs": [
        {
          "output_type": "execute_result",
          "data": {
            "text/plain": [
              "False"
            ]
          },
          "metadata": {},
          "execution_count": 15
        }
      ]
    },
    {
      "cell_type": "code",
      "source": [
        "2 != 3"
      ],
      "metadata": {
        "id": "G7WD7vCAcl-a",
        "outputId": "2d2a0060-9db7-453c-8173-a1cec15c27c2",
        "colab": {
          "base_uri": "https://localhost:8080/"
        }
      },
      "execution_count": null,
      "outputs": [
        {
          "output_type": "execute_result",
          "data": {
            "text/plain": [
              "True"
            ]
          },
          "metadata": {},
          "execution_count": 16
        }
      ]
    },
    {
      "cell_type": "code",
      "source": [
        "'hello' == 'hello'"
      ],
      "metadata": {
        "id": "FUBIB1t9c1xI",
        "outputId": "35fde82a-2053-47a3-b4a6-834602da5236",
        "colab": {
          "base_uri": "https://localhost:8080/"
        }
      },
      "execution_count": null,
      "outputs": [
        {
          "output_type": "execute_result",
          "data": {
            "text/plain": [
              "True"
            ]
          },
          "metadata": {},
          "execution_count": 1
        }
      ]
    },
    {
      "cell_type": "markdown",
      "source": [
        "# Chapter 1 - Python Basics\n"
      ],
      "metadata": {
        "id": "eZwWnn_JfQa_"
      }
    },
    {
      "cell_type": "code",
      "source": [
        "#This program says hello and aks for my name\n",
        "print('Hello world!')\n",
        "print ('What is your name?') #ask for their name\n",
        "myName = input()\n",
        "print('it is good to meet you, + myName)\n",
        "print('The length of your name is:')\n",
        "print(len(myName))"
      ],
      "metadata": {
        "id": "rdf7KGTxf6Oi",
        "outputId": "4bcd422a-c03b-4559-97ac-cd8087bb2744",
        "colab": {
          "base_uri": "https://localhost:8080/",
          "height": 130
        }
      },
      "execution_count": null,
      "outputs": [
        {
          "output_type": "error",
          "ename": "SyntaxError",
          "evalue": "ignored",
          "traceback": [
            "\u001b[0;36m  File \u001b[0;32m\"<ipython-input-3-2a5363fbfc46>\"\u001b[0;36m, line \u001b[0;32m5\u001b[0m\n\u001b[0;31m    print('it is good to meet you, + myName)\u001b[0m\n\u001b[0m                                            ^\u001b[0m\n\u001b[0;31mSyntaxError\u001b[0m\u001b[0;31m:\u001b[0m EOL while scanning string literal\n"
          ]
        }
      ]
    },
    {
      "cell_type": "code",
      "source": [
        "print('Hello world')\n",
        "print('What is your name?')\n",
        "myName = input()\n",
        "print('It is good to meet you, '+ myName)\n",
        "print('the length of your name is:')\n",
        "print(len(myName))"
      ],
      "metadata": {
        "id": "6cgiCVdehIcW",
        "outputId": "6989c2d9-b719-4875-8c2b-556a0874a7fb",
        "colab": {
          "base_uri": "https://localhost:8080/"
        }
      },
      "execution_count": null,
      "outputs": [
        {
          "output_type": "stream",
          "name": "stdout",
          "text": [
            "Hello world\n",
            "What is your name?\n",
            "Daniel\n",
            "It is good to meet you, Daniel\n",
            "the length of your name is:\n",
            "6\n"
          ]
        }
      ]
    },
    {
      "cell_type": "code",
      "source": [
        "print('Hello world')\n",
        "print('What is your name?')\n",
        "myName = input()\n",
        "print('It is good to meet you, ' +myName)\n",
        "print('The length of your name is: ')\n",
        "print(len(myName))\n",
        "print('what is your age?')\n",
        "myAge = input()\n",
        "print('You will be ' + str(int(myAge) + 1) + ' in a year.')"
      ],
      "metadata": {
        "id": "0WJl64-QhTux",
        "outputId": "e74219b8-dcf3-4898-b4c9-ae955a510108",
        "colab": {
          "base_uri": "https://localhost:8080/"
        }
      },
      "execution_count": null,
      "outputs": [
        {
          "output_type": "stream",
          "name": "stdout",
          "text": [
            "Hello world\n",
            "What is your name?\n",
            "anna lea weiss\n",
            "It is good to meet you, anna lea weiss\n",
            "The length of your name is: \n",
            "14\n",
            "what is your age?\n",
            "7\n",
            "You will be 8 in a year.\n"
          ]
        }
      ]
    },
    {
      "cell_type": "code",
      "source": [
        "myName = input()\n",
        "print('It is good to meet you, ' + myName)"
      ],
      "metadata": {
        "id": "SYjrUelSj4tf",
        "outputId": "c88f7e32-531d-4600-f6b5-c7d4fea097e1",
        "colab": {
          "base_uri": "https://localhost:8080/"
        }
      },
      "execution_count": null,
      "outputs": [
        {
          "output_type": "stream",
          "name": "stdout",
          "text": [
            "Mhammed Ali\n",
            "It is good to meet you, Mhammed Ali\n"
          ]
        }
      ]
    },
    {
      "cell_type": "code",
      "source": [
        ""
      ],
      "metadata": {
        "id": "OEANFvr0lkum"
      },
      "execution_count": null,
      "outputs": []
    },
    {
      "cell_type": "code",
      "source": [
        "str(29)\n",
        "print('I am ' + str(29) + ' years old')"
      ],
      "metadata": {
        "id": "_bc3VEg9k4bV",
        "outputId": "a2bfbd18-4860-4210-cafe-24d41d3fd718",
        "colab": {
          "base_uri": "https://localhost:8080/"
        }
      },
      "execution_count": null,
      "outputs": [
        {
          "output_type": "stream",
          "name": "stdout",
          "text": [
            "I am 29 years old\n"
          ]
        }
      ]
    },
    {
      "cell_type": "code",
      "source": [
        "#this is the exercoise on p26\n",
        "spam = input() \n",
        "spam = int(spam)\n",
        "spam * 10 / 5\n",
        "\n"
      ],
      "metadata": {
        "colab": {
          "base_uri": "https://localhost:8080/"
        },
        "id": "dTZnE6LXln1M",
        "outputId": "5a6c23e3-4f7a-47c1-9543-3d602aee1b13"
      },
      "execution_count": null,
      "outputs": [
        {
          "name": "stdout",
          "output_type": "stream",
          "text": [
            "101\n"
          ]
        },
        {
          "output_type": "execute_result",
          "data": {
            "text/plain": [
              "202.0"
            ]
          },
          "metadata": {},
          "execution_count": 6
        }
      ]
    },
    {
      "cell_type": "code",
      "source": [
        "#p26\n",
        "int(99.99)\n",
        "int(7.7)\n",
        "int(7.7) + 1\n",
        "42 == 42.0\n"
      ],
      "metadata": {
        "id": "VE7u5aOnma1s"
      },
      "execution_count": null,
      "outputs": []
    },
    {
      "cell_type": "markdown",
      "source": [
        "# Chapter 2 - Flow control\n"
      ],
      "metadata": {
        "id": "T4SPjNesbUVb"
      }
    },
    {
      "cell_type": "code",
      "source": [
        "#comparison operatores\n",
        "42 == 42\n",
        "42 == 99\n",
        "2 != 3\n",
        "42 < 400\n",
        "eggCount = 43\n",
        "eggCount <= 42"
      ],
      "metadata": {
        "colab": {
          "base_uri": "https://localhost:8080/"
        },
        "id": "YI86eOFxn3rX",
        "outputId": "1ef7a086-a8b8-48ec-a68d-b94d30633f1a"
      },
      "execution_count": null,
      "outputs": [
        {
          "output_type": "execute_result",
          "data": {
            "text/plain": [
              "False"
            ]
          },
          "metadata": {},
          "execution_count": 22
        }
      ]
    },
    {
      "cell_type": "code",
      "source": [
        "#Bolean operators and mixing boolean \n",
        "True and True\n",
        "False or False\n",
        "not not not not True\n",
        "not True\n",
        "(4<5) and (5<6)"
      ],
      "metadata": {
        "colab": {
          "base_uri": "https://localhost:8080/"
        },
        "id": "sJXSJ_FCr-ub",
        "outputId": "a72232b2-e7ed-4f50-a266-4d4a004948f2"
      },
      "execution_count": null,
      "outputs": [
        {
          "output_type": "execute_result",
          "data": {
            "text/plain": [
              "True"
            ]
          },
          "metadata": {},
          "execution_count": 29
        }
      ]
    },
    {
      "cell_type": "markdown",
      "source": [
        ""
      ],
      "metadata": {
        "id": "cZ0DBByhsVpR"
      }
    },
    {
      "cell_type": "code",
      "source": [
        "#elements of flow control - p37\n",
        "print('Hello world')\n",
        "print('What is your name?')\n",
        "myName = input()\n",
        "if myName == 'Mary':\n",
        "  print('Hello Mary')\n",
        "print('Please give pass word')\n",
        "myPassword = input()\n",
        "if myPassword == 'swordfish':\n",
        "    print('Access granted.')\n",
        "else:\n",
        "  print('Fuck off and try again')\n",
        "print('Please give pass word')\n",
        "myPassword = input()\n",
        "if myPassword == 'swordfish':\n",
        "    print('Access granted.')\n",
        "else:\n",
        "  print('Fuck off and try again')"
      ],
      "metadata": {
        "colab": {
          "base_uri": "https://localhost:8080/"
        },
        "id": "a1giA6xytESN",
        "outputId": "a136d432-17bd-4c32-8f79-aebbf30960cb"
      },
      "execution_count": null,
      "outputs": [
        {
          "output_type": "stream",
          "name": "stdout",
          "text": [
            "Hello world\n",
            "What is your name?\n",
            "mary\n",
            "Please give pass word\n",
            "blue gill\n",
            "Fuck off and try again\n",
            "Please give pass word\n",
            "swordfish\n",
            "Access granted.\n"
          ]
        }
      ]
    }
  ]
}