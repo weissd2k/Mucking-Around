{
  "cells": [
    {
      "cell_type": "markdown",
      "metadata": {
        "colab_type": "text",
        "id": "view-in-github"
      },
      "source": [
        "<a href=\"https://colab.research.google.com/github/weissd2k/Dominik/blob/main/PythonLab%20v4%20220822%20.ipynb\" target=\"_parent\"><img src=\"https://colab.research.google.com/assets/colab-badge.svg\" alt=\"Open In Colab\"/></a>"
      ]
    },
    {
      "cell_type": "code",
      "execution_count": null,
      "metadata": {
        "id": "Dtgyiidra7H9"
      },
      "outputs": [],
      "source": []
    },
    {
      "cell_type": "code",
      "execution_count": null,
      "metadata": {
        "id": "3-pY2HVX7O-y"
      },
      "outputs": [],
      "source": []
    },
    {
      "cell_type": "markdown",
      "metadata": {
        "id": "Qo6t8iVSbKnV"
      },
      "source": [
        "# This is my notebook documenting my learning journey in python - i use the Al Sweigart text book"
      ]
    },
    {
      "cell_type": "code",
      "execution_count": null,
      "metadata": {
        "id": "7oAfVenmbSvi"
      },
      "outputs": [],
      "source": []
    },
    {
      "cell_type": "code",
      "execution_count": null,
      "metadata": {
        "id": "96txbKH0bqjZ"
      },
      "outputs": [],
      "source": []
    },
    {
      "cell_type": "code",
      "execution_count": null,
      "metadata": {
        "colab": {
          "base_uri": "https://localhost:8080/",
          "height": 130
        },
        "id": "qXjCdddobsE9",
        "outputId": "a7c5a911-2470-48c8-d81e-25dca8bdbf2b"
      },
      "outputs": [
        {
          "ename": "SyntaxError",
          "evalue": "ignored",
          "output_type": "error",
          "traceback": [
            "\u001b[0;36m  File \u001b[0;32m\"<ipython-input-13-b3835c8a9c0a>\"\u001b[0;36m, line \u001b[0;32m3\u001b[0m\n\u001b[0;31m    True = 2+2\u001b[0m\n\u001b[0m              ^\u001b[0m\n\u001b[0;31mSyntaxError\u001b[0m\u001b[0;31m:\u001b[0m can't assign to keyword\n"
          ]
        }
      ],
      "source": [
        "spam = True\n",
        "spam\n",
        "True = 2+2\n"
      ]
    },
    {
      "cell_type": "markdown",
      "metadata": {
        "id": "W8jE6bK3fH0S"
      },
      "source": []
    },
    {
      "cell_type": "code",
      "execution_count": null,
      "metadata": {
        "colab": {
          "base_uri": "https://localhost:8080/"
        },
        "id": "s9Md1GuzcXfQ",
        "outputId": "184b97ba-a871-4434-9b61-d9616bbcad66"
      },
      "outputs": [
        {
          "data": {
            "text/plain": [
              "False"
            ]
          },
          "execution_count": 14,
          "metadata": {},
          "output_type": "execute_result"
        }
      ],
      "source": [
        "42==42\n",
        "42 == 99"
      ]
    },
    {
      "cell_type": "code",
      "execution_count": null,
      "metadata": {
        "colab": {
          "base_uri": "https://localhost:8080/"
        },
        "id": "_Prto4q6chfz",
        "outputId": "ccd3a07d-2d7a-4791-88d1-3f2fcd89c839"
      },
      "outputs": [
        {
          "data": {
            "text/plain": [
              "False"
            ]
          },
          "execution_count": 15,
          "metadata": {},
          "output_type": "execute_result"
        }
      ],
      "source": [
        "2 != 2\n"
      ]
    },
    {
      "cell_type": "code",
      "execution_count": null,
      "metadata": {
        "colab": {
          "base_uri": "https://localhost:8080/"
        },
        "id": "G7WD7vCAcl-a",
        "outputId": "2d2a0060-9db7-453c-8173-a1cec15c27c2"
      },
      "outputs": [
        {
          "data": {
            "text/plain": [
              "True"
            ]
          },
          "execution_count": 16,
          "metadata": {},
          "output_type": "execute_result"
        }
      ],
      "source": [
        "2 != 3"
      ]
    },
    {
      "cell_type": "code",
      "execution_count": null,
      "metadata": {
        "colab": {
          "base_uri": "https://localhost:8080/"
        },
        "id": "FUBIB1t9c1xI",
        "outputId": "35fde82a-2053-47a3-b4a6-834602da5236"
      },
      "outputs": [
        {
          "data": {
            "text/plain": [
              "True"
            ]
          },
          "execution_count": 1,
          "metadata": {},
          "output_type": "execute_result"
        }
      ],
      "source": [
        "'hello' == 'hello'"
      ]
    },
    {
      "cell_type": "markdown",
      "metadata": {
        "id": "eZwWnn_JfQa_"
      },
      "source": [
        "# Chapter 1 - Python Basics\n"
      ]
    },
    {
      "cell_type": "code",
      "execution_count": null,
      "metadata": {
        "colab": {
          "base_uri": "https://localhost:8080/",
          "height": 130
        },
        "id": "rdf7KGTxf6Oi",
        "outputId": "4bcd422a-c03b-4559-97ac-cd8087bb2744"
      },
      "outputs": [
        {
          "ename": "SyntaxError",
          "evalue": "ignored",
          "output_type": "error",
          "traceback": [
            "\u001b[0;36m  File \u001b[0;32m\"<ipython-input-3-2a5363fbfc46>\"\u001b[0;36m, line \u001b[0;32m5\u001b[0m\n\u001b[0;31m    print('it is good to meet you, + myName)\u001b[0m\n\u001b[0m                                            ^\u001b[0m\n\u001b[0;31mSyntaxError\u001b[0m\u001b[0;31m:\u001b[0m EOL while scanning string literal\n"
          ]
        }
      ],
      "source": [
        "#This program says hello and aks for my name\n",
        "print('Hello world!')\n",
        "print ('What is your name?') #ask for their name\n",
        "myName = input()\n",
        "print('it is good to meet you, + myName)\n",
        "print('The length of your name is:')\n",
        "print(len(myName))"
      ]
    },
    {
      "cell_type": "code",
      "execution_count": null,
      "metadata": {
        "colab": {
          "base_uri": "https://localhost:8080/"
        },
        "id": "6cgiCVdehIcW",
        "outputId": "6989c2d9-b719-4875-8c2b-556a0874a7fb"
      },
      "outputs": [
        {
          "name": "stdout",
          "output_type": "stream",
          "text": [
            "Hello world\n",
            "What is your name?\n",
            "Daniel\n",
            "It is good to meet you, Daniel\n",
            "the length of your name is:\n",
            "6\n"
          ]
        }
      ],
      "source": [
        "print('Hello world')\n",
        "print('What is your name?')\n",
        "myName = input()\n",
        "print('It is good to meet you, '+ myName)\n",
        "print('the length of your name is:')\n",
        "print(len(myName))"
      ]
    },
    {
      "cell_type": "code",
      "execution_count": null,
      "metadata": {
        "colab": {
          "base_uri": "https://localhost:8080/"
        },
        "id": "0WJl64-QhTux",
        "outputId": "e74219b8-dcf3-4898-b4c9-ae955a510108"
      },
      "outputs": [
        {
          "name": "stdout",
          "output_type": "stream",
          "text": [
            "Hello world\n",
            "What is your name?\n",
            "anna lea weiss\n",
            "It is good to meet you, anna lea weiss\n",
            "The length of your name is: \n",
            "14\n",
            "what is your age?\n",
            "7\n",
            "You will be 8 in a year.\n"
          ]
        }
      ],
      "source": [
        "print('Hello world')\n",
        "print('What is your name?')\n",
        "myName = input()\n",
        "print('It is good to meet you, ' +myName)\n",
        "print('The length of your name is: ')\n",
        "print(len(myName))\n",
        "print('what is your age?')\n",
        "myAge = input()\n",
        "print('You will be ' + str(int(myAge) + 1) + ' in a year.')"
      ]
    },
    {
      "cell_type": "code",
      "execution_count": null,
      "metadata": {
        "colab": {
          "base_uri": "https://localhost:8080/"
        },
        "id": "SYjrUelSj4tf",
        "outputId": "c88f7e32-531d-4600-f6b5-c7d4fea097e1"
      },
      "outputs": [
        {
          "name": "stdout",
          "output_type": "stream",
          "text": [
            "Mhammed Ali\n",
            "It is good to meet you, Mhammed Ali\n"
          ]
        }
      ],
      "source": [
        "myName = input()\n",
        "print('It is good to meet you, ' + myName)"
      ]
    },
    {
      "cell_type": "code",
      "execution_count": null,
      "metadata": {
        "id": "OEANFvr0lkum"
      },
      "outputs": [],
      "source": []
    },
    {
      "cell_type": "code",
      "execution_count": null,
      "metadata": {
        "colab": {
          "base_uri": "https://localhost:8080/"
        },
        "id": "_bc3VEg9k4bV",
        "outputId": "a2bfbd18-4860-4210-cafe-24d41d3fd718"
      },
      "outputs": [
        {
          "name": "stdout",
          "output_type": "stream",
          "text": [
            "I am 29 years old\n"
          ]
        }
      ],
      "source": [
        "str(29)\n",
        "print('I am ' + str(29) + ' years old')"
      ]
    },
    {
      "cell_type": "code",
      "execution_count": null,
      "metadata": {
        "colab": {
          "base_uri": "https://localhost:8080/"
        },
        "id": "dTZnE6LXln1M",
        "outputId": "5a6c23e3-4f7a-47c1-9543-3d602aee1b13"
      },
      "outputs": [
        {
          "name": "stdout",
          "output_type": "stream",
          "text": [
            "101\n"
          ]
        },
        {
          "data": {
            "text/plain": [
              "202.0"
            ]
          },
          "execution_count": 6,
          "metadata": {},
          "output_type": "execute_result"
        }
      ],
      "source": [
        "#this is the exercoise on p26\n",
        "spam = input() \n",
        "spam = int(spam)\n",
        "spam * 10 / 5\n",
        "\n"
      ]
    },
    {
      "cell_type": "code",
      "execution_count": null,
      "metadata": {
        "id": "VE7u5aOnma1s"
      },
      "outputs": [],
      "source": [
        "#p26\n",
        "int(99.99)\n",
        "int(7.7)\n",
        "int(7.7) + 1\n",
        "42 == 42.0\n"
      ]
    },
    {
      "cell_type": "markdown",
      "metadata": {
        "id": "T4SPjNesbUVb"
      },
      "source": [
        "# Chapter 2 - Flow control\n"
      ]
    },
    {
      "cell_type": "code",
      "execution_count": null,
      "metadata": {
        "colab": {
          "base_uri": "https://localhost:8080/"
        },
        "id": "YI86eOFxn3rX",
        "outputId": "1ef7a086-a8b8-48ec-a68d-b94d30633f1a"
      },
      "outputs": [
        {
          "data": {
            "text/plain": [
              "False"
            ]
          },
          "execution_count": 22,
          "metadata": {},
          "output_type": "execute_result"
        }
      ],
      "source": [
        "#comparison operatores\n",
        "42 == 42\n",
        "42 == 99\n",
        "2 != 3\n",
        "42 < 400\n",
        "eggCount = 43\n",
        "eggCount <= 42"
      ]
    },
    {
      "cell_type": "code",
      "execution_count": null,
      "metadata": {
        "colab": {
          "base_uri": "https://localhost:8080/"
        },
        "id": "sJXSJ_FCr-ub",
        "outputId": "a72232b2-e7ed-4f50-a266-4d4a004948f2"
      },
      "outputs": [
        {
          "data": {
            "text/plain": [
              "True"
            ]
          },
          "execution_count": 29,
          "metadata": {},
          "output_type": "execute_result"
        }
      ],
      "source": [
        "#Bolean operators and mixing boolean \n",
        "True and True\n",
        "False or False\n",
        "not not not not True\n",
        "not True\n",
        "(4<5) and (5<6)"
      ]
    },
    {
      "cell_type": "markdown",
      "metadata": {
        "id": "cZ0DBByhsVpR"
      },
      "source": []
    },
    {
      "cell_type": "code",
      "execution_count": null,
      "metadata": {
        "colab": {
          "base_uri": "https://localhost:8080/"
        },
        "id": "a1giA6xytESN",
        "outputId": "a136d432-17bd-4c32-8f79-aebbf30960cb"
      },
      "outputs": [
        {
          "name": "stdout",
          "output_type": "stream",
          "text": [
            "Hello world\n",
            "What is your name?\n",
            "mary\n",
            "Please give pass word\n",
            "blue gill\n",
            "Fuck off and try again\n",
            "Please give pass word\n",
            "swordfish\n",
            "Access granted.\n"
          ]
        }
      ],
      "source": [
        "#elements of flow control - p37\n",
        "print('Hello world')\n",
        "print('What is your name?')\n",
        "myName = input()\n",
        "if myName == 'Mary':\n",
        "  print('Hello Mary')\n",
        "print('Please give pass word')\n",
        "myPassword = input()\n",
        "if myPassword == 'swordfish':\n",
        "    print('Access granted.')\n",
        "else:\n",
        "  print('Fuck off and try again')\n",
        "print('Please give pass word')\n",
        "myPassword = input()\n",
        "if myPassword == 'swordfish':\n",
        "    print('Access granted.')\n",
        "else:\n",
        "  print('Fuck off and try again')"
      ]
    },
    {
      "cell_type": "code",
      "execution_count": 26,
      "metadata": {
        "colab": {
          "base_uri": "https://localhost:8080/"
        },
        "id": "dlmxspkg7fH1",
        "outputId": "c0f8a999-70ee-4f31-ab2b-6d2e69600704"
      },
      "outputs": [
        {
          "name": "stdout",
          "output_type": "stream",
          "text": [
            "Hello Arsenal fans\n",
            "What is your name?\n",
            "George\n",
            "Hello George\n",
            "What is your age?\n",
            "33\n",
            "Unlike you, Alice is not an undead, imortal vampire\n"
          ]
        }
      ],
      "source": [
        "#learning about elif statements vampire2\n",
        "print('Hello Arsenal fans')\n",
        "print('What is your name?')\n",
        "myName = input()\n",
        "if myName == 'George':\n",
        "  print('Hello George')\n",
        "print('What is your age?')\n",
        "myAge = input()\n",
        "if myAge == '12':\n",
        "  print('Correct')\n",
        "elif myAge < '12':\n",
        "  print('you are not Alice, kiddo.')\n",
        "elif myAge > '2000':\n",
        "  print('Unlike you, Alice is not an undead, imortal vampire')\n",
        "elif myAge > '100':\n",
        "  print('you are not George, granie.')\n"
      ]
    },
    {
      "cell_type": "code",
      "execution_count": 33,
      "metadata": {
        "colab": {
          "base_uri": "https://localhost:8080/"
        },
        "id": "vOCleCJPA2ch",
        "outputId": "922c71b8-75c9-4040-8082-74824224c2ba"
      },
      "outputs": [
        {
          "name": "stdout",
          "output_type": "stream",
          "text": [
            "What is your name?\n",
            "Alice#\n",
            "What is your age?\n",
            "40\n",
            "Uou are neither Alice nor a little kid.\n"
          ]
        }
      ],
      "source": [
        "#new code littleKid.py p 43\n",
        "print('What is your name?')\n",
        "myName = input()\n",
        "if myName == 'Alice':\n",
        "  print('Hi Alice')\n",
        "print('What is your age?')\n",
        "myAge = input()\n",
        "if myAge == '12':\n",
        "  print('Correct')\n",
        "elif myAge < '12':\n",
        "  print('you are not Alice, kiddo.')\n",
        "else:\n",
        "  print('You are neither Alice nor a little kid.')\n"
      ]
    },
    {
      "cell_type": "code",
      "execution_count": null,
      "metadata": {
        "id": "Zs9WXPjyEBjq"
      },
      "outputs": [],
      "source": [
        "#while loop statement"
      ]
    }
  ],
  "metadata": {
    "colab": {
      "authorship_tag": "ABX9TyMMBSUX4eD+PpjYWbQ4gTlf",
      "include_colab_link": true,
      "name": "Copy of Copy of Copy of Untitled0.ipynb",
      "provenance": [],
      "toc_visible": true
    },
    "kernelspec": {
      "display_name": "Python 3",
      "name": "python3"
    },
    "language_info": {
      "name": "python"
    }
  },
  "nbformat": 4,
  "nbformat_minor": 0
}
